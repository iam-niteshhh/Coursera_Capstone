{
 "cells": [
  {
   "cell_type": "code",
   "execution_count": 1,
   "metadata": {},
   "outputs": [],
   "source": [
    "import pandas as pd\n",
    "import numpy as np \n",
    "\n",
    "import json\n",
    "from pandas.io.json import json_normalize\n",
    "\n",
    "import matplotlib\n",
    "import matplotlib.pyplot as plt\n",
    "import folium\n",
    "\n",
    "from bs4 import BeautifulSoup\n",
    "import geopy\n",
    "import requests"
   ]
  },
  {
   "cell_type": "code",
   "execution_count": 2,
   "metadata": {},
   "outputs": [],
   "source": [
    "url_banglore='https://en.wikipedia.org/wiki/List_of_neighbourhoods_in_Bangalore'\n",
    "url_delhi='https://en.wikipedia.org/wiki/List_of_neighbourhoods_of_Delhi'"
   ]
  },
  {
   "cell_type": "code",
   "execution_count": 3,
   "metadata": {
    "scrolled": false
   },
   "outputs": [],
   "source": [
    "def banglore_neighbor(url_banglore):\n",
    "    ab=[]\n",
    "    html_data_banglore=requests.get(url_banglore).text\n",
    "    soup_banglore=BeautifulSoup(html_data_banglore,'html.parser')\n",
    "\n",
    "    for i in soup_banglore.find_all('tr'):\n",
    "        try:\n",
    "            a=i.find('a')\n",
    "            ab.append(a.next_element)\n",
    "        except:\n",
    "            pass\n",
    "    return ab\n"
   ]
  },
  {
   "cell_type": "code",
   "execution_count": 4,
   "metadata": {},
   "outputs": [],
   "source": [
    "def delhi_neighbor(urld):\n",
    "    neighbor_delhi=[]\n",
    "    html_data_delhi=requests.get(url_delhi).text\n",
    "    soup_delhi=BeautifulSoup(html_data_delhi,'html.parser')\n",
    "    for i in soup_delhi.find_all('li'):\n",
    "        try:\n",
    "            x=i.a   \n",
    "            if '<' in str(x.next_element):\n",
    "                pass\n",
    "            else:\n",
    "                neighbor_delhi.append(x.next_element)\n",
    "        except:\n",
    "            neighbor_delhi.append(list(i.descendants)[0])\n",
    "    return neighbor_delhi[:119]"
   ]
  },
  {
   "cell_type": "code",
   "execution_count": 5,
   "metadata": {
    "scrolled": false
   },
   "outputs": [],
   "source": [
    "delhi_neighbors=delhi_neighbor(url_delhi)"
   ]
  },
  {
   "cell_type": "code",
   "execution_count": 6,
   "metadata": {},
   "outputs": [],
   "source": [
    "banglore_neighbors=banglore_neighbor(url_banglore)"
   ]
  },
  {
   "cell_type": "code",
   "execution_count": 15,
   "metadata": {},
   "outputs": [],
   "source": [
    "def location_finder(x):\n",
    "    geolocator=geopy.geocoders.Nominatim(user_agent='neighod')\n",
    "    g=geolocator.geocode(x['Neighborhood'])\n",
    "    try:\n",
    "        x.loc['Latitude']=g.latitude\n",
    "        x.loc['Longitude']=g.longitude\n",
    "    except:\n",
    "        x.loc['Latitude']=np.nan\n",
    "        x.loc['Longitude']=np.nan\n"
   ]
  },
  {
   "cell_type": "code",
   "execution_count": 16,
   "metadata": {},
   "outputs": [],
   "source": [
    "def dataframe_creation(data_list):\n",
    "    columns=['Neighborhood','Latitude','Longitude']\n",
    "    dataframe=pd.DataFrame(columns=columns)\n",
    "    dataframe['Neighborhood']=data_list\n",
    "    dataframe.apply(location_finder,axis=1)\n",
    "    return dataframe"
   ]
  },
  {
   "cell_type": "code",
   "execution_count": 17,
   "metadata": {},
   "outputs": [
    {
     "data": {
      "text/html": [
       "<div>\n",
       "<style scoped>\n",
       "    .dataframe tbody tr th:only-of-type {\n",
       "        vertical-align: middle;\n",
       "    }\n",
       "\n",
       "    .dataframe tbody tr th {\n",
       "        vertical-align: top;\n",
       "    }\n",
       "\n",
       "    .dataframe thead th {\n",
       "        text-align: right;\n",
       "    }\n",
       "</style>\n",
       "<table border=\"1\" class=\"dataframe\">\n",
       "  <thead>\n",
       "    <tr style=\"text-align: right;\">\n",
       "      <th></th>\n",
       "      <th>Neighborhood</th>\n",
       "      <th>Latitude</th>\n",
       "      <th>Longitude</th>\n",
       "    </tr>\n",
       "  </thead>\n",
       "  <tbody>\n",
       "    <tr>\n",
       "      <th>0</th>\n",
       "      <td>Adarsh Nagar</td>\n",
       "      <td>28.7166</td>\n",
       "      <td>77.1704</td>\n",
       "    </tr>\n",
       "    <tr>\n",
       "      <th>1</th>\n",
       "      <td>Ashok Vihar</td>\n",
       "      <td>19.1165</td>\n",
       "      <td>72.8868</td>\n",
       "    </tr>\n",
       "    <tr>\n",
       "      <th>2</th>\n",
       "      <td>Begum Pur</td>\n",
       "      <td>28.7255</td>\n",
       "      <td>77.0584</td>\n",
       "    </tr>\n",
       "    <tr>\n",
       "      <th>3</th>\n",
       "      <td>Karala</td>\n",
       "      <td>10.3529</td>\n",
       "      <td>76.512</td>\n",
       "    </tr>\n",
       "    <tr>\n",
       "      <th>4</th>\n",
       "      <td>Narela</td>\n",
       "      <td>28.8426</td>\n",
       "      <td>77.0918</td>\n",
       "    </tr>\n",
       "    <tr>\n",
       "      <th>...</th>\n",
       "      <td>...</td>\n",
       "      <td>...</td>\n",
       "      <td>...</td>\n",
       "    </tr>\n",
       "    <tr>\n",
       "      <th>114</th>\n",
       "      <td>Rajouri Garden</td>\n",
       "      <td>28.6422</td>\n",
       "      <td>77.1161</td>\n",
       "    </tr>\n",
       "    <tr>\n",
       "      <th>115</th>\n",
       "      <td>Tihar Village</td>\n",
       "      <td>30.849</td>\n",
       "      <td>78.6413</td>\n",
       "    </tr>\n",
       "    <tr>\n",
       "      <th>116</th>\n",
       "      <td>Tilak Nagar</td>\n",
       "      <td>28.6365</td>\n",
       "      <td>77.0965</td>\n",
       "    </tr>\n",
       "    <tr>\n",
       "      <th>117</th>\n",
       "      <td>Vikas Nagar</td>\n",
       "      <td>31.0796</td>\n",
       "      <td>77.1783</td>\n",
       "    </tr>\n",
       "    <tr>\n",
       "      <th>118</th>\n",
       "      <td>Vikaspuri</td>\n",
       "      <td>28.6384</td>\n",
       "      <td>77.0708</td>\n",
       "    </tr>\n",
       "  </tbody>\n",
       "</table>\n",
       "<p>119 rows × 3 columns</p>\n",
       "</div>"
      ],
      "text/plain": [
       "       Neighborhood Latitude Longitude\n",
       "0      Adarsh Nagar  28.7166   77.1704\n",
       "1       Ashok Vihar  19.1165   72.8868\n",
       "2         Begum Pur  28.7255   77.0584\n",
       "3            Karala  10.3529    76.512\n",
       "4            Narela  28.8426   77.0918\n",
       "..              ...      ...       ...\n",
       "114  Rajouri Garden  28.6422   77.1161\n",
       "115   Tihar Village   30.849   78.6413\n",
       "116     Tilak Nagar  28.6365   77.0965\n",
       "117     Vikas Nagar  31.0796   77.1783\n",
       "118       Vikaspuri  28.6384   77.0708\n",
       "\n",
       "[119 rows x 3 columns]"
      ]
     },
     "execution_count": 17,
     "metadata": {},
     "output_type": "execute_result"
    }
   ],
   "source": [
    "delhi_dataframe=dataframe_creation(delhi_neighbors)\n",
    "delhi_dataframe"
   ]
  },
  {
   "cell_type": "code",
   "execution_count": 20,
   "metadata": {},
   "outputs": [],
   "source": [
    "delhi_dataframe.to_csv('Data/delhi_dataframe.csv')"
   ]
  },
  {
   "cell_type": "code",
   "execution_count": 18,
   "metadata": {},
   "outputs": [
    {
     "data": {
      "text/html": [
       "<div>\n",
       "<style scoped>\n",
       "    .dataframe tbody tr th:only-of-type {\n",
       "        vertical-align: middle;\n",
       "    }\n",
       "\n",
       "    .dataframe tbody tr th {\n",
       "        vertical-align: top;\n",
       "    }\n",
       "\n",
       "    .dataframe thead th {\n",
       "        text-align: right;\n",
       "    }\n",
       "</style>\n",
       "<table border=\"1\" class=\"dataframe\">\n",
       "  <thead>\n",
       "    <tr style=\"text-align: right;\">\n",
       "      <th></th>\n",
       "      <th>Neighborhood</th>\n",
       "      <th>Latitude</th>\n",
       "      <th>Longitude</th>\n",
       "    </tr>\n",
       "  </thead>\n",
       "  <tbody>\n",
       "    <tr>\n",
       "      <th>0</th>\n",
       "      <td>Cantonment</td>\n",
       "      <td>33.9986</td>\n",
       "      <td>71.5338</td>\n",
       "    </tr>\n",
       "    <tr>\n",
       "      <th>1</th>\n",
       "      <td>Domlur</td>\n",
       "      <td>12.9625</td>\n",
       "      <td>77.6382</td>\n",
       "    </tr>\n",
       "    <tr>\n",
       "      <th>2</th>\n",
       "      <td>Indiranagar</td>\n",
       "      <td>12.9733</td>\n",
       "      <td>77.6405</td>\n",
       "    </tr>\n",
       "    <tr>\n",
       "      <th>3</th>\n",
       "      <td>Jeevanbheemanagar</td>\n",
       "      <td>NaN</td>\n",
       "      <td>NaN</td>\n",
       "    </tr>\n",
       "    <tr>\n",
       "      <th>4</th>\n",
       "      <td>Malleswaram</td>\n",
       "      <td>16.7029</td>\n",
       "      <td>81.7879</td>\n",
       "    </tr>\n",
       "    <tr>\n",
       "      <th>...</th>\n",
       "      <td>...</td>\n",
       "      <td>...</td>\n",
       "      <td>...</td>\n",
       "    </tr>\n",
       "    <tr>\n",
       "      <th>64</th>\n",
       "      <td>Vijayanagar</td>\n",
       "      <td>29.2436</td>\n",
       "      <td>73.5223</td>\n",
       "    </tr>\n",
       "    <tr>\n",
       "      <th>65</th>\n",
       "      <td>Doddaballapura</td>\n",
       "      <td>13.293</td>\n",
       "      <td>77.5431</td>\n",
       "    </tr>\n",
       "    <tr>\n",
       "      <th>66</th>\n",
       "      <td>Doddaballapura</td>\n",
       "      <td>13.293</td>\n",
       "      <td>77.5431</td>\n",
       "    </tr>\n",
       "    <tr>\n",
       "      <th>67</th>\n",
       "      <td>Magadi</td>\n",
       "      <td>12.9567</td>\n",
       "      <td>77.2242</td>\n",
       "    </tr>\n",
       "    <tr>\n",
       "      <th>68</th>\n",
       "      <td>Bidadi</td>\n",
       "      <td>12.7989</td>\n",
       "      <td>77.387</td>\n",
       "    </tr>\n",
       "  </tbody>\n",
       "</table>\n",
       "<p>69 rows × 3 columns</p>\n",
       "</div>"
      ],
      "text/plain": [
       "         Neighborhood Latitude Longitude\n",
       "0          Cantonment  33.9986   71.5338\n",
       "1              Domlur  12.9625   77.6382\n",
       "2         Indiranagar  12.9733   77.6405\n",
       "3   Jeevanbheemanagar      NaN       NaN\n",
       "4         Malleswaram  16.7029   81.7879\n",
       "..                ...      ...       ...\n",
       "64        Vijayanagar  29.2436   73.5223\n",
       "65     Doddaballapura   13.293   77.5431\n",
       "66     Doddaballapura   13.293   77.5431\n",
       "67             Magadi  12.9567   77.2242\n",
       "68             Bidadi  12.7989    77.387\n",
       "\n",
       "[69 rows x 3 columns]"
      ]
     },
     "execution_count": 18,
     "metadata": {},
     "output_type": "execute_result"
    }
   ],
   "source": [
    "banglore_dataframe=dataframe_creation(banglore_neighbors)\n",
    "banglore_dataframe"
   ]
  },
  {
   "cell_type": "code",
   "execution_count": 21,
   "metadata": {},
   "outputs": [],
   "source": [
    "banglore_dataframe.to_csv('Data/banglore_Dataframe.csv')"
   ]
  },
  {
   "cell_type": "code",
   "execution_count": null,
   "metadata": {},
   "outputs": [],
   "source": []
  }
 ],
 "metadata": {
  "kernelspec": {
   "display_name": "Python 3",
   "language": "python",
   "name": "python3"
  },
  "language_info": {
   "codemirror_mode": {
    "name": "ipython",
    "version": 3
   },
   "file_extension": ".py",
   "mimetype": "text/x-python",
   "name": "python",
   "nbconvert_exporter": "python",
   "pygments_lexer": "ipython3",
   "version": "3.8.5"
  }
 },
 "nbformat": 4,
 "nbformat_minor": 4
}
